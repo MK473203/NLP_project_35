{
 "cells": [
  {
   "cell_type": "code",
   "execution_count": 65,
   "metadata": {},
   "outputs": [],
   "source": [
    "import numpy as np\n",
    "from matplotlib import pyplot as plt\n",
    "from scipy.sparse import csc_matrix\n",
    "from scipy.stats import pearsonr\n",
    "from nltk.sentiment.vader import SentimentIntensityAnalyzer\n",
    "from nltk.tokenize import word_tokenize\n",
    "from nltk.corpus import stopwords\n",
    "import pandas as pd"
   ]
  },
  {
   "cell_type": "code",
   "execution_count": 66,
   "metadata": {},
   "outputs": [],
   "source": [
    "# 4\n",
    "# Loading comments.csv\n",
    "\n",
    "comments_csv = pd.read_csv(\"comments.csv\", delimiter= ',', usecols=[0, 1, 4])"
   ]
  },
  {
   "cell_type": "code",
   "execution_count": 67,
   "metadata": {},
   "outputs": [],
   "source": [
    "# 4-6\n",
    "# Function for generating and plotting pearson correlation scores\n",
    "\n",
    "\"\"\"\n",
    "\tTakes two item-user matrices and calculates pearson correlation first on a per-user basis and plots them. \n",
    "\tThen the correlation scores are averaged to see if there is a more global correlation between the two scoring systems.\n",
    "\n",
    "\tAssumes that the rows represent items (documents) and the columns represent users \n",
    "\tand that the rows and columns are in the same order between the matrices\n",
    "\"\"\"\n",
    "def pearson_analyze(M1, M2):\n",
    "\tcorrelations = []\n",
    "\n",
    "\tfor col_index in range(M1.get_shape()[1]):\n",
    "\t\tuser_vec_1 = M1.getcol(col_index).toarray().flatten()\n",
    "\t\tuser_vec_2 = M2.getcol(col_index).toarray().flatten()\n",
    "\n",
    "\t\t# Documents the user hasn't interacted with should not affect the correlation\n",
    "\t\tnonzero_elements = [user_vec_1[i] != 0 or user_vec_2[i] != 0 for i, _ in enumerate(user_vec_1)]\n",
    "\n",
    "\t\tuser_vec_1 = user_vec_1[nonzero_elements]\n",
    "\t\tuser_vec_2 = user_vec_2[nonzero_elements]\n",
    "\n",
    "\t\tif len(user_vec_1) < 2 or len(user_vec_2) < 2:\n",
    "\t\t\tcorrelations += [np.nan]\n",
    "\t\telse:\n",
    "\t\t\tcorrelations += [pearsonr(user_vec_1, user_vec_2)[0]]\n",
    "\t\n",
    "\tprint(correlations)\n",
    "\n",
    "\tfig, ax = plt.subplots()\n",
    "\tax.scatter(correlations, [0] * len(correlations))\n",
    "\tax.set(yticklabels=[])\n",
    "\tax.tick_params(left=False)\n",
    "\n",
    "\tprint(\"Average correlation between users: \" + str(np.nanmean(correlations)))\n"
   ]
  },
  {
   "cell_type": "code",
   "execution_count": 68,
   "metadata": {},
   "outputs": [
    {
     "name": "stderr",
     "output_type": "stream",
     "text": [
      "C:\\Users\\mk473\\AppData\\Roaming\\Python\\Python311\\site-packages\\scipy\\sparse\\_index.py:103: SparseEfficiencyWarning: Changing the sparsity structure of a csc_matrix is expensive. lil_matrix is more efficient.\n",
      "  self._set_intXint(row, col, x.flat[0])\n"
     ]
    }
   ],
   "source": [
    "# 4\n",
    "# Generate item-user matrix from comments\n",
    "vader = SentimentIntensityAnalyzer()\n",
    "\n",
    "unique_users = comments_csv[\"personId\"].unique()\n",
    "unique_items = comments_csv[\"contentId\"].unique()\n",
    "\n",
    "unique_users.sort()\n",
    "unique_items.sort()\n",
    "\n",
    "vader_item_user_matrix = csc_matrix((len(unique_items), len(unique_users)), dtype=float)\n",
    "\n",
    "for index, row in comments_csv.iterrows():\n",
    "\titem_index = np.where(unique_items == row[\"contentId\"])[0][0]\n",
    "\tuser_index = np.where(unique_users == row[\"personId\"])[0][0]\n",
    "\tvader_item_user_matrix[item_index, user_index] = vader.polarity_scores(row[\"comment\"])[\"compound\"]\n",
    "\n",
    "\n",
    "#pearson_analyze(vader_item_user_matrix, event_rating_matrix)"
   ]
  },
  {
   "cell_type": "code",
   "execution_count": 69,
   "metadata": {},
   "outputs": [
    {
     "name": "stderr",
     "output_type": "stream",
     "text": [
      "C:\\Users\\mk473\\AppData\\Roaming\\Python\\Python311\\site-packages\\scipy\\stats\\_stats_py.py:4424: ConstantInputWarning: An input array is constant; the correlation coefficient is not defined.\n",
      "  warnings.warn(stats.ConstantInputWarning(msg))\n"
     ]
    },
    {
     "name": "stdout",
     "output_type": "stream",
     "text": [
      "[nan, 0.11035959479172286, nan, nan, nan, 0.05806417527206148, 0.722924333019939, nan, nan, -0.04676474881849185, -1.0, nan, nan, nan, 1.0, nan, nan, 0.31287690586375816, nan, nan, -1.0, -0.2532493314364014, nan, nan, nan, nan, 0.5935100036745273, nan, nan, 0.307917286346484, nan, nan, 0.6465141237797102, nan, 1.0, nan, -0.4040512777771041, nan, nan, -1.0, 0.45170759208238653, 0.6646461060644153, 1.0, nan, nan, nan, 0.37709676824091, 0.8935175384980043, 1.0, nan, nan, nan, nan, nan, nan, 0.7383012277923056, nan, -0.49240608101498434, nan, nan, nan, 1.0, nan, nan, nan, 1.0, nan, -1.0, nan, nan, 0.369334871630162, 0.31592246287308745, nan, nan, 0.4921923918510059, -0.08818575090234179, -0.15932510248850681, nan, 0.11398335414358915, -1.0, 0.1418601921464281, 0.6938128424822255, 1.0, -0.22156005077305768, nan, -0.10733056216740783, 1.0, nan, 1.0, nan, nan, nan, nan, 1.0, 0.774207046448917, -0.05867421926457936, 0.5755355391241197, -0.21730323924427375, nan, 0.23139627079793634, -0.10931779183377925, 0.7842643242926803, nan, 0.5597904286600096, 0.5071210705106838, 0.966063944371995, 0.9407453661846094, -0.24144098220113183, 1.0, 0.3191658495615991, nan, nan, nan, nan, 1.0, 0.35498848890796586, nan, nan, -0.005302203413699413, nan, -0.6868312830102785, 0.31703686350485827, 0.9129788592530865, 0.811844611590356, nan, nan, nan, nan, nan, nan, 0.6398063298363249, nan, nan, nan, -1.0, 1.0, nan, nan, nan, -0.15444719500965948, 1.0, nan, nan, 0.8757341760600718, nan, nan, 1.0, 0.4848265240450863, nan, nan, nan, 0.17496922842202975, nan, 0.6306455133434963, nan, nan, nan, nan, nan, nan, nan, nan, nan, -1.0, 0.3740163969785945, 0.329945623979391, nan, nan, nan, 0.7477449774210647, nan, 0.2374793157039675, -0.3573888502566548, 0.4561761980530912, 0.39852061034368913, nan, nan, 0.36998120639975607, 0.6074369780067419, 0.8503477789355328, -0.6628639547574477, nan, nan, nan, 0.15855233774638705, nan, -0.47103834730771693, nan, -0.7224925790837011, nan, 0.544166495808546, nan, 0.7632129032854176, nan, 1.0, nan, nan, 0.7181400238423392, nan, nan, nan, 0.29034160320467556, nan, 0.05846184906257876, 0.6341338757018948, nan, nan, nan, nan, nan, nan, 1.0, -0.36405021002191273, nan, nan, nan, 0.878435317384615, nan, nan, nan, nan, nan, nan, nan, nan, -0.005287902990460586, 1.0, nan, -1.0, 0.718631839242071, -0.17407850686237236, nan, nan, nan, 1.0, -0.15685141541524672, nan, nan, 0.9825493057630146, nan, nan, 1.0, 0.08284164384208793, nan, -1.0, 1.0, -1.0, -0.16839672079419876, nan, -0.9615706998162743, nan, 0.7814580577110581, nan, 0.8213670788362226, nan, nan, 1.0, nan, -0.2798563831237139, 1.0, 0.788378637539543, nan]\n",
      "Average correlation between users: 0.3126094650040291\n"
     ]
    },
    {
     "data": {
      "image/png": "[encoded data removed]",
      "text/plain": [
       "<Figure size 640x480 with 1 Axes>"
      ]
     },
     "metadata": {},
     "output_type": "display_data"
    }
   ],
   "source": [
    "# 5\n",
    "# Same as #4 but the vader scores are replaced with the comments' size in tokens\n",
    "\n",
    "token_item_user_matrix = csc_matrix((len(unique_items), len(unique_users)), dtype=float)\n",
    "\n",
    "for index, row in comments_csv.iterrows():\n",
    "\titem_index = np.where(unique_items == row[\"contentId\"])[0][0]\n",
    "\tuser_index = np.where(unique_users == row[\"personId\"])[0][0]\n",
    "\ttoken_item_user_matrix[item_index, user_index] = len(word_tokenize(row[\"comment\"]))\n",
    "\n",
    "pearson_analyze(token_item_user_matrix, vader_item_user_matrix)\n",
    "#pearson_analyze(token_item_user_matrix, event_rating_matrix)"
   ]
  },
  {
   "cell_type": "code",
   "execution_count": 70,
   "metadata": {},
   "outputs": [
    {
     "name": "stdout",
     "output_type": "stream",
     "text": [
      "[nan, 0.7579098707710953, nan, nan, nan, 0.43443351856416007, 0.9020943956415781, nan, nan, 0.753898527984046, 1.0, nan, nan, nan, 1.0, nan, nan, 0.9656243767124056, nan, nan, 1.0, 0.3639260345175555, nan, nan, nan, nan, 0.5763307566044045, nan, nan, 0.5064284331749286, nan, -1.0, -0.8848759268051768, nan, 1.0, nan, 0.8886080749029394, nan, nan, -1.0, 0.5892450583906783, -0.2386949256907362, 1.0, nan, nan, nan, 0.6464632170243904, 0.9943329476839786, 1.0, nan, nan, nan, nan, nan, nan, 0.9762210399274298, nan, 0.9576017920487486, nan, nan, nan, 1.0, nan, nan, nan, 1.0, nan, 1.0, nan, nan, 0.7703945379458798, 0.6406470175323238, nan, nan, 0.33839509248819755, 0.9563247157871203, 0.6681826786489511, nan, 0.6888995155311476, 1.0, 0.45347764147594066, 0.7930766230817026, -1.0, 0.8626635792144666, nan, 0.14309269853540504, 1.0, nan, 1.0, nan, nan, nan, nan, 1.0, 0.7419554678458313, 0.8682283796050396, 0.652996052774682, 0.5786218073036223, nan, 0.6384548163693415, 0.6372306507115413, 0.9549191084050638, nan, 0.5988054931429152, 0.5473578065339252, 0.9707253433941511, 0.8614238337155783, 0.40567025689344804, -1.0, 0.3405329001302606, nan, nan, nan, nan, 1.0, 0.6147682477094147, nan, nan, 0.7250344245805432, nan, 0.9996910764431809, 0.679888441041146, 0.31724700151012597, 0.8901553560541162, nan, nan, nan, nan, nan, nan, 0.6460093079832657, nan, nan, nan, -1.0, 1.0, nan, nan, nan, 0.1957080909604838, 1.0, nan, nan, 0.7288775375634945, nan, nan, 1.0, 0.3544610706638947, nan, nan, nan, 0.4954545708236564, nan, 0.6629712955134691, nan, nan, nan, nan, nan, nan, nan, nan, nan, -1.0, 0.5149515271580578, 0.3326181657353729, nan, nan, nan, -0.261094584860917, nan, -0.9869115726091127, 0.4437922630105906, 0.6091678639178918, 0.5137693671906771, nan, nan, 0.6123297837978645, 0.7875385250471694, 0.3540982050786676, 0.9895634249394276, nan, nan, nan, 0.8887459035242505, nan, 0.9018026287724064, nan, 0.5319580118986654, nan, 0.6097435685825997, nan, 0.4975149233605091, nan, 1.0, nan, nan, 0.5717780970519495, nan, nan, nan, 0.6974337489496472, nan, 0.8958395554284162, 0.9953146965138144, nan, nan, nan, nan, nan, nan, 1.0, 0.5718502459594748, nan, nan, nan, 0.23222120412261132, nan, nan, nan, nan, nan, nan, nan, nan, 0.09288623459165321, -1.0, nan, -1.0, 0.36454921402022633, 0.683003528055845, nan, nan, nan, -1.0, 0.8762598693305137, nan, nan, 0.42216045657781215, nan, nan, 1.0, -0.5923634932093994, nan, 1.0, -1.0, -1.0, 0.04747794668994357, nan, 0.7217988400587462, nan, 0.4177486407948223, nan, 0.5306136302571464, nan, nan, 1.0, nan, -0.0706498900436971, 1.0, 0.15643973027986138, nan]\n",
      "Average correlation between users: 0.4921499150364644\n"
     ]
    },
    {
     "data": {
      "image/png": "[encoded data removed]",
      "text/plain": [
       "<Figure size 640x480 with 1 Axes>"
      ]
     },
     "metadata": {},
     "output_type": "display_data"
    }
   ],
   "source": [
    "# 6\n",
    "# Same as #4 but the vader scores are replaced with the comments' ratio of stopwords and words with uncommon characters to other words\n",
    "\n",
    "stopwords = stopwords.words(\"english\")\n",
    "\n",
    "stopword_ratio_item_user_matrix = csc_matrix((len(unique_items), len(unique_users)), dtype=float)\n",
    "\n",
    "for index, row in comments_csv.iterrows():\n",
    "\titem_index = np.where(unique_items == row[\"contentId\"])[0][0]\n",
    "\tuser_index = np.where(unique_users == row[\"personId\"])[0][0]\n",
    "\n",
    "\ttokens = word_tokenize(row[\"comment\"])\n",
    "\n",
    "\tstopwords_and_uncommon_chars = [token for token in tokens if token in stopwords or not token.isalpha()]\n",
    "\n",
    "\tstopword_ratio_item_user_matrix[item_index, user_index] = len(stopwords_and_uncommon_chars) / len(tokens)\n",
    "\n",
    "pearson_analyze(stopword_ratio_item_user_matrix, token_item_user_matrix)\n",
    "#pearson_analyze(stopword_ratio_item_user_matrix, event_rating_matrix)"
   ]
  }
 ],
 "metadata": {
  "kernelspec": {
   "display_name": "Python 3",
   "language": "python",
   "name": "python3"
  },
  "language_info": {
   "codemirror_mode": {
    "name": "ipython",
    "version": 3
   },
   "file_extension": ".py",
   "mimetype": "text/x-python",
   "name": "python",
   "nbconvert_exporter": "python",
   "pygments_lexer": "ipython3",
   "version": "3.11.1"
  }
 },
 "nbformat": 4,
 "nbformat_minor": 2
}
