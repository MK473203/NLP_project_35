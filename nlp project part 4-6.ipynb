{
 "cells": [
  {
   "cell_type": "code",
   "execution_count": 28,
   "metadata": {},
   "outputs": [],
   "source": [
    "import numpy as np\n",
    "from scipy.sparse import csc_matrix, lil_matrix\n",
    "from scipy.stats import pearsonr\n",
    "import random\n",
    "\n",
    "from nltk.sentiment.vader import SentimentIntensityAnalyzer\n",
    "import pandas as pd"
   ]
  },
  {
   "cell_type": "code",
   "execution_count": 29,
   "metadata": {},
   "outputs": [],
   "source": [
    "# 4\n",
    "# Loading comments.csv\n",
    "\n",
    "comments_csv = pd.read_csv(\"comments.csv\", delimiter= ',', usecols=[0, 1, 4])"
   ]
  },
  {
   "cell_type": "code",
   "execution_count": 30,
   "metadata": {},
   "outputs": [
    {
     "name": "stdout",
     "output_type": "stream",
     "text": [
      "262\n",
      "568\n",
      "-0.0487347170495082\n"
     ]
    }
   ],
   "source": [
    "# 4\n",
    "# Generate item-user matrix from comments\n",
    "\n",
    "unique_users = comments_csv[\"personId\"].unique()\n",
    "unique_items = comments_csv[\"contentId\"].unique()\n",
    "\n",
    "item_user_matrix = lil_matrix((len(unique_items), len(unique_users)), dtype=float)\n",
    "\n",
    "vader = SentimentIntensityAnalyzer()\n",
    "\n",
    "for index, row in comments_csv.iterrows():\n",
    "\titem_index = np.where(unique_items == row[\"contentId\"])[0][0]\n",
    "\tuser_index = np.where(unique_users == row[\"personId\"])[0][0]\n",
    "\titem_user_matrix[item_index, user_index] = vader.polarity_scores(row[\"comment\"])[\"compound\"]\n",
    "\n",
    "item_user_matrix = item_user_matrix.tocsc()\n",
    "\n",
    "test_vec = [random.randint(0, 5) for _ in range(len(unique_items))]\n",
    "test_vec2 = item_user_matrix.getcol(3).toarray().flatten()\n",
    "\n",
    "corr, _ = pearsonr(test_vec, test_vec2)\n",
    "print(corr) # Correlation with a random vector should be pretty close to 0"
   ]
  }
 ],
 "metadata": {
  "kernelspec": {
   "display_name": "Python 3",
   "language": "python",
   "name": "python3"
  },
  "language_info": {
   "codemirror_mode": {
    "name": "ipython",
    "version": 3
   },
   "file_extension": ".py",
   "mimetype": "text/x-python",
   "name": "python",
   "nbconvert_exporter": "python",
   "pygments_lexer": "ipython3",
   "version": "3.11.1"
  }
 },
 "nbformat": 4,
 "nbformat_minor": 2
}
